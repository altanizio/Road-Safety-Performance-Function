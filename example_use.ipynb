{
 "cells": [
  {
   "cell_type": "code",
   "execution_count": 1,
   "id": "e06bbef2",
   "metadata": {},
   "outputs": [],
   "source": [
    "import pandas as pd\n",
    "from rspf import RSPF\n",
    "import matplotlib.pyplot as plt"
   ]
  },
  {
   "cell_type": "code",
   "execution_count": 2,
   "id": "0e682db1",
   "metadata": {},
   "outputs": [],
   "source": [
    "data = pd.read_excel(\"data_exemple/data.xlsx\")"
   ]
  },
  {
   "cell_type": "code",
   "execution_count": 3,
   "id": "6301909e",
   "metadata": {},
   "outputs": [
    {
     "data": {
      "application/vnd.microsoft.datawrangler.viewer.v0+json": {
       "columns": [
        {
         "name": "index",
         "rawType": "int64",
         "type": "integer"
        },
        {
         "name": "N_LANES",
         "rawType": "int64",
         "type": "integer"
        },
        {
         "name": "N_ROADWAYS",
         "rawType": "int64",
         "type": "integer"
        },
        {
         "name": "AADT",
         "rawType": "int64",
         "type": "integer"
        },
        {
         "name": "N_CRASH",
         "rawType": "int64",
         "type": "integer"
        }
       ],
       "ref": "803ff3af-ea91-4f7a-aed7-4e1e7317a5ea",
       "rows": [
        [
         "0",
         "8",
         "4",
         "7917",
         "0"
        ],
        [
         "1",
         "8",
         "4",
         "10873",
         "0"
        ],
        [
         "2",
         "8",
         "4",
         "12066",
         "0"
        ],
        [
         "3",
         "8",
         "4",
         "12800",
         "0"
        ],
        [
         "4",
         "8",
         "4",
         "14552",
         "1"
        ]
       ],
       "shape": {
        "columns": 4,
        "rows": 5
       }
      },
      "text/html": [
       "<div>\n",
       "<style scoped>\n",
       "    .dataframe tbody tr th:only-of-type {\n",
       "        vertical-align: middle;\n",
       "    }\n",
       "\n",
       "    .dataframe tbody tr th {\n",
       "        vertical-align: top;\n",
       "    }\n",
       "\n",
       "    .dataframe thead th {\n",
       "        text-align: right;\n",
       "    }\n",
       "</style>\n",
       "<table border=\"1\" class=\"dataframe\">\n",
       "  <thead>\n",
       "    <tr style=\"text-align: right;\">\n",
       "      <th></th>\n",
       "      <th>N_LANES</th>\n",
       "      <th>N_ROADWAYS</th>\n",
       "      <th>AADT</th>\n",
       "      <th>N_CRASH</th>\n",
       "    </tr>\n",
       "  </thead>\n",
       "  <tbody>\n",
       "    <tr>\n",
       "      <th>0</th>\n",
       "      <td>8</td>\n",
       "      <td>4</td>\n",
       "      <td>7917</td>\n",
       "      <td>0</td>\n",
       "    </tr>\n",
       "    <tr>\n",
       "      <th>1</th>\n",
       "      <td>8</td>\n",
       "      <td>4</td>\n",
       "      <td>10873</td>\n",
       "      <td>0</td>\n",
       "    </tr>\n",
       "    <tr>\n",
       "      <th>2</th>\n",
       "      <td>8</td>\n",
       "      <td>4</td>\n",
       "      <td>12066</td>\n",
       "      <td>0</td>\n",
       "    </tr>\n",
       "    <tr>\n",
       "      <th>3</th>\n",
       "      <td>8</td>\n",
       "      <td>4</td>\n",
       "      <td>12800</td>\n",
       "      <td>0</td>\n",
       "    </tr>\n",
       "    <tr>\n",
       "      <th>4</th>\n",
       "      <td>8</td>\n",
       "      <td>4</td>\n",
       "      <td>14552</td>\n",
       "      <td>1</td>\n",
       "    </tr>\n",
       "  </tbody>\n",
       "</table>\n",
       "</div>"
      ],
      "text/plain": [
       "   N_LANES  N_ROADWAYS   AADT  N_CRASH\n",
       "0        8           4   7917        0\n",
       "1        8           4  10873        0\n",
       "2        8           4  12066        0\n",
       "3        8           4  12800        0\n",
       "4        8           4  14552        1"
      ]
     },
     "execution_count": 3,
     "metadata": {},
     "output_type": "execute_result"
    }
   ],
   "source": [
    "data.head()"
   ]
  },
  {
   "cell_type": "code",
   "execution_count": 4,
   "id": "1f95c970",
   "metadata": {},
   "outputs": [],
   "source": [
    "model = RSPF(data, y=\"N_CRASH\", X=[\"N_LANES\", \"AADT\"], X_log=[\"AADT\"])"
   ]
  },
  {
   "cell_type": "code",
   "execution_count": 6,
   "id": "dc076ff9",
   "metadata": {},
   "outputs": [
    {
     "data": {
      "application/vnd.microsoft.datawrangler.viewer.v0+json": {
       "columns": [
        {
         "name": "index",
         "rawType": "int64",
         "type": "integer"
        },
        {
         "name": "Metric",
         "rawType": "object",
         "type": "string"
        },
        {
         "name": "Value",
         "rawType": "object",
         "type": "unknown"
        }
       ],
       "ref": "76c4edfd-38a7-45c9-b225-05b67af0346a",
       "rows": [
        [
         "0",
         "-2 LogLik",
         "375.763"
        ],
        [
         "1",
         "LogLik",
         "-187.882"
        ],
        [
         "2",
         "Residual df",
         "137.0"
        ],
        [
         "3",
         "Pearson Chi²",
         "150.133"
        ],
        [
         "4",
         "Critical Chi² (95%)",
         "165.316"
        ],
        [
         "5",
         "Deviance",
         "161.541"
        ],
        [
         "6",
         "AIC",
         "383.763"
        ],
        [
         "7",
         "Dispersion",
         "1.096"
        ],
        [
         "8",
         "Alpha",
         "0.08941"
        ],
        [
         "9",
         "Theta",
         "11.18388"
        ],
        [
         "10",
         "Observations",
         "140"
        ]
       ],
       "shape": {
        "columns": 2,
        "rows": 11
       }
      },
      "text/html": [
       "<div>\n",
       "<style scoped>\n",
       "    .dataframe tbody tr th:only-of-type {\n",
       "        vertical-align: middle;\n",
       "    }\n",
       "\n",
       "    .dataframe tbody tr th {\n",
       "        vertical-align: top;\n",
       "    }\n",
       "\n",
       "    .dataframe thead th {\n",
       "        text-align: right;\n",
       "    }\n",
       "</style>\n",
       "<table border=\"1\" class=\"dataframe\">\n",
       "  <thead>\n",
       "    <tr style=\"text-align: right;\">\n",
       "      <th></th>\n",
       "      <th>Metric</th>\n",
       "      <th>Value</th>\n",
       "    </tr>\n",
       "  </thead>\n",
       "  <tbody>\n",
       "    <tr>\n",
       "      <th>0</th>\n",
       "      <td>-2 LogLik</td>\n",
       "      <td>375.763</td>\n",
       "    </tr>\n",
       "    <tr>\n",
       "      <th>1</th>\n",
       "      <td>LogLik</td>\n",
       "      <td>-187.882</td>\n",
       "    </tr>\n",
       "    <tr>\n",
       "      <th>2</th>\n",
       "      <td>Residual df</td>\n",
       "      <td>137.0</td>\n",
       "    </tr>\n",
       "    <tr>\n",
       "      <th>3</th>\n",
       "      <td>Pearson Chi²</td>\n",
       "      <td>150.133</td>\n",
       "    </tr>\n",
       "    <tr>\n",
       "      <th>4</th>\n",
       "      <td>Critical Chi² (95%)</td>\n",
       "      <td>165.316</td>\n",
       "    </tr>\n",
       "    <tr>\n",
       "      <th>5</th>\n",
       "      <td>Deviance</td>\n",
       "      <td>161.541</td>\n",
       "    </tr>\n",
       "    <tr>\n",
       "      <th>6</th>\n",
       "      <td>AIC</td>\n",
       "      <td>383.763</td>\n",
       "    </tr>\n",
       "    <tr>\n",
       "      <th>7</th>\n",
       "      <td>Dispersion</td>\n",
       "      <td>1.096</td>\n",
       "    </tr>\n",
       "    <tr>\n",
       "      <th>8</th>\n",
       "      <td>Alpha</td>\n",
       "      <td>0.08941</td>\n",
       "    </tr>\n",
       "    <tr>\n",
       "      <th>9</th>\n",
       "      <td>Theta</td>\n",
       "      <td>11.18388</td>\n",
       "    </tr>\n",
       "    <tr>\n",
       "      <th>10</th>\n",
       "      <td>Observations</td>\n",
       "      <td>140</td>\n",
       "    </tr>\n",
       "  </tbody>\n",
       "</table>\n",
       "</div>"
      ],
      "text/plain": [
       "                 Metric     Value\n",
       "0             -2 LogLik   375.763\n",
       "1                LogLik  -187.882\n",
       "2           Residual df     137.0\n",
       "3          Pearson Chi²   150.133\n",
       "4   Critical Chi² (95%)   165.316\n",
       "5              Deviance   161.541\n",
       "6                   AIC   383.763\n",
       "7            Dispersion     1.096\n",
       "8                 Alpha   0.08941\n",
       "9                 Theta  11.18388\n",
       "10         Observations       140"
      ]
     },
     "execution_count": 6,
     "metadata": {},
     "output_type": "execute_result"
    }
   ],
   "source": [
    "model.metrics()"
   ]
  },
  {
   "cell_type": "code",
   "execution_count": 6,
   "id": "b3698bdd",
   "metadata": {},
   "outputs": [
    {
     "data": {
      "application/vnd.microsoft.datawrangler.viewer.v0+json": {
       "columns": [
        {
         "name": "index",
         "rawType": "int64",
         "type": "integer"
        },
        {
         "name": "Variable",
         "rawType": "object",
         "type": "string"
        },
        {
         "name": "Estimate",
         "rawType": "object",
         "type": "string"
        },
        {
         "name": "P-value",
         "rawType": "object",
         "type": "string"
        }
       ],
       "ref": "67d83a6b-9ce0-4c65-86aa-c718e99bd2e2",
       "rows": [
        [
         "0",
         "const",
         "-10.96604",
         "0.00123"
        ],
        [
         "1",
         "N_LANES",
         "0.09296",
         "0.00886"
        ],
        [
         "2",
         "AADT_log",
         "0.95531",
         "0.00730"
        ],
        [
         "3",
         "alpha",
         "0.08941",
         "0.43516"
        ]
       ],
       "shape": {
        "columns": 3,
        "rows": 4
       }
      },
      "text/html": [
       "<div>\n",
       "<style scoped>\n",
       "    .dataframe tbody tr th:only-of-type {\n",
       "        vertical-align: middle;\n",
       "    }\n",
       "\n",
       "    .dataframe tbody tr th {\n",
       "        vertical-align: top;\n",
       "    }\n",
       "\n",
       "    .dataframe thead th {\n",
       "        text-align: right;\n",
       "    }\n",
       "</style>\n",
       "<table border=\"1\" class=\"dataframe\">\n",
       "  <thead>\n",
       "    <tr style=\"text-align: right;\">\n",
       "      <th></th>\n",
       "      <th>Variable</th>\n",
       "      <th>Estimate</th>\n",
       "      <th>P-value</th>\n",
       "    </tr>\n",
       "  </thead>\n",
       "  <tbody>\n",
       "    <tr>\n",
       "      <th>0</th>\n",
       "      <td>const</td>\n",
       "      <td>-10.96604</td>\n",
       "      <td>0.00123</td>\n",
       "    </tr>\n",
       "    <tr>\n",
       "      <th>1</th>\n",
       "      <td>N_LANES</td>\n",
       "      <td>0.09296</td>\n",
       "      <td>0.00886</td>\n",
       "    </tr>\n",
       "    <tr>\n",
       "      <th>2</th>\n",
       "      <td>AADT_log</td>\n",
       "      <td>0.95531</td>\n",
       "      <td>0.00730</td>\n",
       "    </tr>\n",
       "    <tr>\n",
       "      <th>3</th>\n",
       "      <td>alpha</td>\n",
       "      <td>0.08941</td>\n",
       "      <td>0.43516</td>\n",
       "    </tr>\n",
       "  </tbody>\n",
       "</table>\n",
       "</div>"
      ],
      "text/plain": [
       "   Variable   Estimate  P-value\n",
       "0     const  -10.96604  0.00123\n",
       "1   N_LANES    0.09296  0.00886\n",
       "2  AADT_log    0.95531  0.00730\n",
       "3     alpha    0.08941  0.43516"
      ]
     },
     "execution_count": 6,
     "metadata": {},
     "output_type": "execute_result"
    }
   ],
   "source": [
    "model.coef()"
   ]
  },
  {
   "cell_type": "code",
   "execution_count": 7,
   "id": "6b9048e9",
   "metadata": {},
   "outputs": [
    {
     "name": "stdout",
     "output_type": "stream",
     "text": [
      "\n",
      "============================================================\n",
      "======== ROAD SAFETY PERFORMANCE FUNCTION - SUMMARY ========\n",
      "============================================================\n",
      "\n",
      "             Metric    Value\n",
      "          -2 LogLik  375.763\n",
      "             LogLik -187.882\n",
      "        Residual df    137.0\n",
      "       Pearson Chi²  150.133\n",
      "Critical Chi² (95%)  165.316\n",
      "           Deviance  161.541\n",
      "                AIC  383.763\n",
      "         Dispersion    1.096\n",
      "              Alpha  0.08941\n",
      "              Theta 11.18388\n",
      "       Observations      140\n",
      "\n",
      "\n",
      "Model Coefficients:\n",
      "\n",
      "Variable  Estimate P-value\n",
      "   const -10.96604 0.00123\n",
      " N_LANES   0.09296 0.00886\n",
      "AADT_log   0.95531 0.00730\n",
      "   alpha   0.08941 0.43516\n",
      "\n",
      "\n",
      "Model Formula:\n",
      "\n",
      "E(K) = 0.000017 * AADT^0.955308 * exp(0.092964*N_LANES)\n",
      "\n",
      "============================================================\n",
      "\n"
     ]
    }
   ],
   "source": [
    "model.summary()"
   ]
  },
  {
   "cell_type": "code",
   "execution_count": 10,
   "id": "a74cd6a9",
   "metadata": {},
   "outputs": [
    {
     "data": {
      "image/png": "[encoded data removed]",
      "text/plain": [
       "<Figure size 800x500 with 1 Axes>"
      ]
     },
     "metadata": {},
     "output_type": "display_data"
    }
   ],
   "source": [
    "model.plot_cureplot(covariate=data[\"AADT\"]) \n",
    "plt.show()"
   ]
  }
 ],
 "metadata": {
  "kernelspec": {
   "display_name": "datascience",
   "language": "python",
   "name": "python3"
  },
  "language_info": {
   "codemirror_mode": {
    "name": "ipython",
    "version": 3
   },
   "file_extension": ".py",
   "mimetype": "text/x-python",
   "name": "python",
   "nbconvert_exporter": "python",
   "pygments_lexer": "ipython3",
   "version": "3.12.9"
  }
 },
 "nbformat": 4,
 "nbformat_minor": 5
}
